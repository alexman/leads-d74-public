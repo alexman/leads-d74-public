{
 "cells": [
  {
   "cell_type": "code",
   "execution_count": null,
   "id": "32d8d744-617a-4da8-b4d1-7a6480a44a4d",
   "metadata": {},
   "outputs": [],
   "source": [
    "# 01 — Data Preprocessing Demo (Phase 1, MIT)\n",
    "\n",
    "This notebook demonstrates:\n",
    "- loading the sample BAAC-like CSV,\n",
    "- ID normalization,\n",
    "- timezone-aware timestamp parsing,\n",
    "- aligned multi-value “data explosion” (public variant),\n",
    "- basic temporal features and a quick quality report.\n",
    "\n",
    "_Advanced components will arrive in Phase 2 (EUPL/GPL)._\n"
   ]
  },
  {
   "cell_type": "code",
   "execution_count": null,
   "id": "ceebc813-0ab9-412b-a6b5-921021a9bb24",
   "metadata": {},
   "outputs": [],
   "source": [
    "import pandas as pd\n",
    "from preprocessing import (\n",
    "    normalize_id_column, parse_datetime_column, add_accident_time_parts,\n",
    "    derive_age_from_year_of_birth, basic_quality_report, detect_multivalue_columns,\n",
    "    explode_aligned_columns, one_hot_multivalue_columns\n",
    ")\n",
    "\n",
    "CSV_PATH = \"../data/accidents-corporels-de-la-circulation-millesime_eng_columns_selected_data_translated_sample.csv\"\n",
    "df = pd.read_csv(CSV_PATH)\n",
    "len(df), df.columns.tolist()\n"
   ]
  },
  {
   "cell_type": "code",
   "execution_count": null,
   "id": "e88a5ddc-6dce-4521-9b9e-24c9a80a6aa1",
   "metadata": {},
   "outputs": [],
   "source": [
    "# Normalize IDs and parse datetime (UTC)\n",
    "df = normalize_id_column(df, id_col=\"ID_accident\")\n",
    "df = parse_datetime_column(df, source_col=\"Date_and_hour\", target_col=\"dt\", utc=True)\n",
    "df = add_accident_time_parts(df, dt_col=\"dt\")\n",
    "df.head(3)\n"
   ]
  },
  {
   "cell_type": "code",
   "execution_count": null,
   "id": "03ec940a-f468-4b99-a620-79d4e1dc4306",
   "metadata": {},
   "outputs": [],
   "source": [
    "# Derive age from Year_of_birth and Accident_Year (safe clipping)\n",
    "df = derive_age_from_year_of_birth(df, yob_col=\"Year_of_birth\", reference_year_col=\"Accident_Year\", target_col=\"Age\")\n",
    "df[[\"Year_of_birth\", \"Accident_Year\", \"Age\"]].head(5)\n"
   ]
  },
  {
   "cell_type": "code",
   "execution_count": null,
   "id": "f61d684f-5b17-4b6f-b091-741252affc5d",
   "metadata": {},
   "outputs": [],
   "source": [
    "# Minimal quality report\n",
    "qr = basic_quality_report(df)\n",
    "qr.head(10)\n"
   ]
  },
  {
   "cell_type": "code",
   "execution_count": null,
   "id": "7f1dda5c-6ace-4fb9-a28f-071dfa178c02",
   "metadata": {},
   "outputs": [],
   "source": [
    "## Aligned Multi-Value Explosion (Public Variant)\n",
    "We jointly explode `Security_measures` and `User_of_security_measures` as aligned lists (comma-separated).\n"
   ]
  },
  {
   "cell_type": "code",
   "execution_count": null,
   "id": "a05497d3-8e44-41e2-b1a8-4290e4eea765",
   "metadata": {},
   "outputs": [],
   "source": [
    "mv_cols = [\"Security_measures\", \"User_of_security_measures\"]\n",
    "for c in mv_cols:\n",
    "    assert c in df.columns, f\"Missing expected column: {c}\"\n",
    "\n",
    "df_exploded = explode_aligned_columns(\n",
    "    df,\n",
    "    columns=mv_cols,\n",
    "    sep=\",\",\n",
    "    strict_equal_lengths=False  # pad short lists with None\n",
    ")\n",
    "df_exploded[mv_cols].head(10)\n"
   ]
  },
  {
   "cell_type": "code",
   "execution_count": null,
   "id": "a7f07801-dfe0-487a-b3a6-82079e6dd794",
   "metadata": {},
   "outputs": [],
   "source": [
    "# Optional: simple one-hot on Security_measures after explosion (public-friendly threshold)\n",
    "df_oh = one_hot_multivalue_columns(df_exploded, columns=[\"Security_measures\"], sep=\",\", min_count=10)\n",
    "[x for x in df_oh.columns if x.startswith(\"Security_measures__\")][:10]\n"
   ]
  }
 ],
 "metadata": {
  "kernelspec": {
   "display_name": "work",
   "language": "python",
   "name": "work"
  },
  "language_info": {
   "codemirror_mode": {
    "name": "ipython",
    "version": 3
   },
   "file_extension": ".py",
   "mimetype": "text/x-python",
   "name": "python",
   "nbconvert_exporter": "python",
   "pygments_lexer": "ipython3",
   "version": "3.8.18"
  }
 },
 "nbformat": 4,
 "nbformat_minor": 5
}
