{
 "cells": [
  {
   "cell_type": "code",
   "execution_count": null,
   "id": "1d0f5645-53f6-47da-a929-fd084cbdd478",
   "metadata": {},
   "outputs": [],
   "source": [
    "# 02 — Exploratory Analysis (Phase 1, MIT)\n",
    "\n",
    "Quick EDA on the sample data using the public visualization helpers.\n"
   ]
  },
  {
   "cell_type": "code",
   "execution_count": null,
   "id": "412a0ce0-6f8a-4fc5-8ac9-b5d7eac01899",
   "metadata": {},
   "outputs": [],
   "source": [
    "import pandas as pd\n",
    "from preprocessing import normalize_id_column, parse_datetime_column, add_accident_time_parts\n",
    "from visualization import (\n",
    "    plot_category_counts, plot_nulls_bar, plot_time_series_counts,\n",
    "    plot_geo_scatter, plot_multivalue_token_counts\n",
    ")\n",
    "\n",
    "CSV_PATH = \"../data/accidents-corporels-de-la-circulation-millesime_eng_columns_selected_data_translated_sample.csv\"\n",
    "df = pd.read_csv(CSV_PATH)\n",
    "\n",
    "df = normalize_id_column(df, id_col=\"ID_accident\")\n",
    "df = parse_datetime_column(df, source_col=\"Date_and_hour\", target_col=\"dt\", utc=True)\n",
    "df = add_accident_time_parts(df, dt_col=\"dt\")\n",
    "len(df)\n"
   ]
  },
  {
   "cell_type": "code",
   "execution_count": null,
   "id": "288e5b5b-4af6-4e3d-9959-eeeeb3edf297",
   "metadata": {},
   "outputs": [],
   "source": [
    "plot_nulls_bar(df);\n"
   ]
  },
  {
   "cell_type": "code",
   "execution_count": null,
   "id": "0494c24f-4056-43e0-b1ec-bb2efd79c5f8",
   "metadata": {},
   "outputs": [],
   "source": [
    "plot_category_counts(df, \"Weather_condition\", top_n=10);\n"
   ]
  },
  {
   "cell_type": "code",
   "execution_count": null,
   "id": "5c5b9177-9050-46d7-ba76-fb801e527b18",
   "metadata": {},
   "outputs": [],
   "source": [
    "plot_time_series_counts(df, dt_col=\"dt\", freq=\"M\");\n"
   ]
  },
  {
   "cell_type": "code",
   "execution_count": null,
   "id": "a4bfffc3-84ad-47ac-80d2-017fce6ac8fa",
   "metadata": {},
   "outputs": [],
   "source": [
    "# Geo scatter; falls back if lat/lon absent\n",
    "lat_col = \"Latitude\" if \"Latitude\" in df.columns else None\n",
    "lon_col = \"Longitude\" if \"Longitude\" in df.columns else None\n",
    "if lat_col and lon_col:\n",
    "    plot_geo_scatter(df, lat_col=lat_col, lon_col=lon_col);\n",
    "else:\n",
    "    print(\"Latitude/Longitude missing — skipping geo scatter.\")\n"
   ]
  },
  {
   "cell_type": "code",
   "execution_count": null,
   "id": "904d5946-3e6f-4d40-9df0-2f47e289c66f",
   "metadata": {},
   "outputs": [],
   "source": [
    "# Multi-value token counts for Security_measures (comma-separated)\n",
    "if \"Security_measures\" in df.columns:\n",
    "    plot_multivalue_token_counts(df, \"Security_measures\", sep=\",\", top_n=15);\n",
    "else:\n",
    "    print(\"Security_measures missing — skipping token bar chart.\")\n"
   ]
  },
  {
   "cell_type": "code",
   "execution_count": null,
   "id": "9d0b6004-ae3d-49d0-b4e3-77b4b0b04fed",
   "metadata": {},
   "outputs": [],
   "source": []
  },
  {
   "cell_type": "code",
   "execution_count": null,
   "id": "65120b30-94af-4fce-b5a1-11109633515f",
   "metadata": {},
   "outputs": [],
   "source": []
  },
  {
   "cell_type": "code",
   "execution_count": null,
   "id": "cb44b926-561d-465e-83f9-5b126a77cadd",
   "metadata": {},
   "outputs": [],
   "source": []
  }
 ],
 "metadata": {
  "kernelspec": {
   "display_name": "work",
   "language": "python",
   "name": "work"
  },
  "language_info": {
   "codemirror_mode": {
    "name": "ipython",
    "version": 3
   },
   "file_extension": ".py",
   "mimetype": "text/x-python",
   "name": "python",
   "nbconvert_exporter": "python",
   "pygments_lexer": "ipython3",
   "version": "3.8.18"
  }
 },
 "nbformat": 4,
 "nbformat_minor": 5
}
